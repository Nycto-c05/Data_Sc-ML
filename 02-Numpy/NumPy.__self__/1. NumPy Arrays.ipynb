{
 "cells": [
  {
   "cell_type": "markdown",
   "id": "2983d193",
   "metadata": {},
   "source": [
    "# Creating a np array"
   ]
  },
  {
   "cell_type": "code",
   "execution_count": 1,
   "id": "c5ee97cb",
   "metadata": {},
   "outputs": [],
   "source": [
    "import numpy as np"
   ]
  },
  {
   "cell_type": "code",
   "execution_count": 3,
   "id": "b2a6f18b",
   "metadata": {},
   "outputs": [
    {
     "data": {
      "text/plain": [
       "array([1, 2, 3])"
      ]
     },
     "execution_count": 3,
     "metadata": {},
     "output_type": "execute_result"
    }
   ],
   "source": [
    "#Creating an array (Holds homogenous data)\n",
    "arr = np.array([1,2,3]) \n",
    "arr"
   ]
  },
  {
   "cell_type": "code",
   "execution_count": 7,
   "id": "ee00b04e",
   "metadata": {},
   "outputs": [
    {
     "data": {
      "text/plain": [
       "array([[1, 2, 3],\n",
       "       [4, 5, 6],\n",
       "       [7, 8, 9]])"
      ]
     },
     "execution_count": 7,
     "metadata": {},
     "output_type": "execute_result"
    }
   ],
   "source": [
    "#Creating a 2D array, auto structures it in an 2D format\n",
    "matrix= [[1,2,3],[4,5,6],[7,8,9]]\n",
    "npArray = np.array(matrix)\n",
    "npArray\n"
   ]
  },
  {
   "cell_type": "markdown",
   "id": "ba5be00f",
   "metadata": {},
   "source": [
    "# Numpy methods"
   ]
  },
  {
   "cell_type": "code",
   "execution_count": 8,
   "id": "d0e6c6de",
   "metadata": {},
   "outputs": [
    {
     "data": {
      "text/plain": [
       "array([0, 2, 4, 6, 8])"
      ]
     },
     "execution_count": 8,
     "metadata": {},
     "output_type": "execute_result"
    }
   ],
   "source": [
    "#NumPy funtions\n",
    "#similar to the range()\n",
    "np.arange(0,10,2) #(start, end, step). Start and End are inclusive & exclusive respectively"
   ]
  },
  {
   "cell_type": "code",
   "execution_count": 10,
   "id": "6070f24e",
   "metadata": {},
   "outputs": [
    {
     "data": {
      "text/plain": [
       "array([0., 0., 0., 0., 0.])"
      ]
     },
     "execution_count": 10,
     "metadata": {},
     "output_type": "execute_result"
    }
   ],
   "source": [
    "#Creates Array of n zeros\n",
    "np.zeros(5)\n"
   ]
  },
  {
   "cell_type": "code",
   "execution_count": 11,
   "id": "088fce64",
   "metadata": {},
   "outputs": [
    {
     "data": {
      "text/plain": [
       "array([[0., 0., 0.],\n",
       "       [0., 0., 0.],\n",
       "       [0., 0., 0.],\n",
       "       [0., 0., 0.],\n",
       "       [0., 0., 0.]])"
      ]
     },
     "execution_count": 11,
     "metadata": {},
     "output_type": "execute_result"
    }
   ],
   "source": [
    "#To create rows and columns of zeros, use inner parentheses\n",
    "np.zeros((5,3))"
   ]
  },
  {
   "cell_type": "code",
   "execution_count": 12,
   "id": "af83a1ca",
   "metadata": {},
   "outputs": [
    {
     "data": {
      "text/plain": [
       "array([[1., 1., 1.],\n",
       "       [1., 1., 1.],\n",
       "       [1., 1., 1.]])"
      ]
     },
     "execution_count": 12,
     "metadata": {},
     "output_type": "execute_result"
    }
   ],
   "source": [
    "#Similary, \n",
    "np.ones((3,3))"
   ]
  },
  {
   "cell_type": "code",
   "execution_count": 42,
   "id": "16600fbc",
   "metadata": {},
   "outputs": [
    {
     "data": {
      "text/plain": [
       "array([ 0.,  1.,  2.,  3.,  4.,  5.,  6.,  7.,  8.,  9., 10.])"
      ]
     },
     "execution_count": 42,
     "metadata": {},
     "output_type": "execute_result"
    }
   ],
   "source": [
    "#start end inclusive and returns linearly/evenly spaced number n numbers (here 11)\n",
    "np.linspace(0,10,11)"
   ]
  },
  {
   "cell_type": "code",
   "execution_count": 43,
   "id": "b7c6589a",
   "metadata": {},
   "outputs": [
    {
     "data": {
      "text/plain": [
       "array([[1., 0., 0., 0., 0.],\n",
       "       [0., 1., 0., 0., 0.],\n",
       "       [0., 0., 1., 0., 0.],\n",
       "       [0., 0., 0., 1., 0.],\n",
       "       [0., 0., 0., 0., 1.]])"
      ]
     },
     "execution_count": 43,
     "metadata": {},
     "output_type": "execute_result"
    }
   ],
   "source": [
    "#Returns identity matrix on NxN shape (one arg cuz Identity matrix is a square matrix)\n",
    "np.eye(5)"
   ]
  },
  {
   "cell_type": "markdown",
   "id": "1c7f2f61",
   "metadata": {},
   "source": [
    "# Numpy Random library"
   ]
  },
  {
   "cell_type": "code",
   "execution_count": 18,
   "id": "4f43787f",
   "metadata": {},
   "outputs": [
    {
     "data": {
      "text/plain": [
       "array([[0.63683943, 0.88017267, 0.95668819],\n",
       "       [0.65837523, 0.12543889, 0.71436314],\n",
       "       [0.9446657 , 0.55560204, 0.24990026],\n",
       "       [0.61192643, 0.22074889, 0.86047889],\n",
       "       [0.56833273, 0.6390065 , 0.61225334]])"
      ]
     },
     "execution_count": 18,
     "metadata": {},
     "output_type": "execute_result"
    }
   ],
   "source": [
    "#returns an uniform distribution(every number has same likelyhood of being chosen) of number from [1,0)\n",
    "#returns NxN shape random nos., 5 rows 3 col here\n",
    "#NO need of inner tuple for random lib\n",
    "np.random.rand(5,3)"
   ]
  },
  {
   "cell_type": "code",
   "execution_count": 20,
   "id": "18568f05",
   "metadata": {},
   "outputs": [
    {
     "data": {
      "text/plain": [
       "array([ 0.07093505, -0.30003674, -2.16439843])"
      ]
     },
     "execution_count": 20,
     "metadata": {},
     "output_type": "execute_result"
    }
   ],
   "source": [
    "#Returns a standard normal distribution whose mean is 0, thus is more likely to return nos. closer to 0\n",
    "np.random.randn(3)"
   ]
  },
  {
   "cell_type": "code",
   "execution_count": 22,
   "id": "827c20ed",
   "metadata": {},
   "outputs": [
    {
     "data": {
      "text/plain": [
       "array([[ 8,  1, 10],\n",
       "       [ 9,  9,  1],\n",
       "       [ 4,  2,  1],\n",
       "       [ 2,  7,  5],\n",
       "       [ 2,  6,  9]])"
      ]
     },
     "execution_count": 22,
     "metadata": {},
     "output_type": "execute_result"
    }
   ],
   "source": [
    "np.random.randint(0,11,(5,3))#from (0 to 11], returns random integer of shape mxn array"
   ]
  },
  {
   "cell_type": "code",
   "execution_count": 24,
   "id": "c7d297d9",
   "metadata": {},
   "outputs": [
    {
     "data": {
      "text/plain": [
       "array([7, 4, 8, 5, 7])"
      ]
     },
     "execution_count": 24,
     "metadata": {},
     "output_type": "execute_result"
    }
   ],
   "source": [
    "#Setting seed: Setting a seed number to a set of arbitary nos. This helps reproduce that random nos.\n",
    "np.random.seed(42)#set a seed to the random distribution we get,so we can call that seed and itll reproduce same set of  nos.\n",
    "np.random.randint(1,11,5)"
   ]
  },
  {
   "cell_type": "code",
   "execution_count": 26,
   "id": "5d37e5d6",
   "metadata": {},
   "outputs": [
    {
     "data": {
      "text/plain": [
       "array([7, 4, 8, 5, 7])"
      ]
     },
     "execution_count": 26,
     "metadata": {},
     "output_type": "execute_result"
    }
   ],
   "source": [
    "#Reproducing result by using same seed no. in the same block where we wanna reproduce the results\n",
    "np.random.seed(42)#w/o this it'll not reproduce same results\n",
    "np.random.randint(1,11,5)\n",
    "#reproduces saem result as above block"
   ]
  },
  {
   "cell_type": "code",
   "execution_count": 27,
   "id": "debee56a",
   "metadata": {},
   "outputs": [
    {
     "data": {
      "text/plain": [
       "array([[ 0,  1,  2,  3,  4],\n",
       "       [ 5,  6,  7,  8,  9],\n",
       "       [10, 11, 12, 13, 14],\n",
       "       [15, 16, 17, 18, 19],\n",
       "       [20, 21, 22, 23, 24]])"
      ]
     },
     "execution_count": 27,
     "metadata": {},
     "output_type": "execute_result"
    }
   ],
   "source": [
    "#NumPy attri & methods\n",
    "arr = np.arange(0,25)\n",
    "arr.reshape(5,5)#reshapes data into mxn structure if it fits into it, or else not"
   ]
  },
  {
   "cell_type": "markdown",
   "id": "75f4e4d6",
   "metadata": {},
   "source": [
    "# Misc attr. and methods"
   ]
  },
  {
   "cell_type": "code",
   "execution_count": 29,
   "id": "d970e9be",
   "metadata": {},
   "outputs": [
    {
     "name": "stdout",
     "output_type": "stream",
     "text": [
      "0\n",
      "24\n"
     ]
    }
   ],
   "source": [
    "# Prints max and min value on array\n",
    "print(arr.min())\n",
    "print(arr.max())"
   ]
  },
  {
   "cell_type": "code",
   "execution_count": 31,
   "id": "fb6fe03b",
   "metadata": {},
   "outputs": [
    {
     "data": {
      "text/plain": [
       "24"
      ]
     },
     "execution_count": 31,
     "metadata": {},
     "output_type": "execute_result"
    }
   ],
   "source": [
    "#prints index location of min and max element\n",
    "arr.argmax()\n",
    "\n"
   ]
  },
  {
   "cell_type": "code",
   "execution_count": 32,
   "id": "a81a3e53",
   "metadata": {},
   "outputs": [
    {
     "data": {
      "text/plain": [
       "0"
      ]
     },
     "execution_count": 32,
     "metadata": {},
     "output_type": "execute_result"
    }
   ],
   "source": [
    "arr.argmin()"
   ]
  },
  {
   "cell_type": "code",
   "execution_count": 33,
   "id": "bb2d99b8",
   "metadata": {},
   "outputs": [
    {
     "data": {
      "text/plain": [
       "dtype('int64')"
      ]
     },
     "execution_count": 33,
     "metadata": {},
     "output_type": "execute_result"
    }
   ],
   "source": [
    "#returning data type of array\n",
    "arr.dtype"
   ]
  },
  {
   "cell_type": "code",
   "execution_count": 34,
   "id": "0608c76a",
   "metadata": {},
   "outputs": [
    {
     "data": {
      "text/plain": [
       "(25,)"
      ]
     },
     "execution_count": 34,
     "metadata": {},
     "output_type": "execute_result"
    }
   ],
   "source": [
    "\n",
    "arr.shape"
   ]
  },
  {
   "cell_type": "code",
   "execution_count": 38,
   "id": "bf4dc125",
   "metadata": {},
   "outputs": [],
   "source": [
    "arr = arr.reshape(5,5)"
   ]
  },
  {
   "cell_type": "code",
   "execution_count": 39,
   "id": "4ef3efce",
   "metadata": {},
   "outputs": [
    {
     "data": {
      "text/plain": [
       "(5, 5)"
      ]
     },
     "execution_count": 39,
     "metadata": {},
     "output_type": "execute_result"
    }
   ],
   "source": [
    "arr.shape# since reshaped, returns rows, col as shape"
   ]
  },
  {
   "cell_type": "code",
   "execution_count": null,
   "id": "841f2f1e",
   "metadata": {},
   "outputs": [],
   "source": []
  }
 ],
 "metadata": {
  "kernelspec": {
   "display_name": "Python 3 (ipykernel)",
   "language": "python",
   "name": "python3"
  },
  "language_info": {
   "codemirror_mode": {
    "name": "ipython",
    "version": 3
   },
   "file_extension": ".py",
   "mimetype": "text/x-python",
   "name": "python",
   "nbconvert_exporter": "python",
   "pygments_lexer": "ipython3",
   "version": "3.10.4"
  }
 },
 "nbformat": 4,
 "nbformat_minor": 5
}
